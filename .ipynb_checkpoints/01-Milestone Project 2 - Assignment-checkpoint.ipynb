{
 "cells": [
  {
   "cell_type": "markdown",
   "metadata": {},
   "source": [
    "# Milestone Project 2 - Blackjack Game\n",
    "In this milestone project you will be creating a Complete BlackJack Card Game in Python.\n",
    "\n",
    "Here are the requirements:\n",
    "\n",
    "* You need to create a simple text-based [BlackJack](https://en.wikipedia.org/wiki/Blackjack) game\n",
    "* The game needs to have one player versus an automated dealer.\n",
    "* The player can stand or hit.\n",
    "* The player must be able to pick their betting amount.\n",
    "* You need to keep track of the player's total money.\n",
    "* You need to alert the player of wins, losses, or busts, etc...\n",
    "\n",
    "And most importantly:\n",
    "\n",
    "* **You must use OOP and classes in some portion of your game. You can not just use functions in your game. Use classes to help you define the Deck and the Player's hand. There are many right ways to do this, so explore it well!**\n",
    "\n",
    "\n",
    "Feel free to expand this game. Try including multiple players. Try adding in Double-Down and card splits! Remember to you are free to use any resources you want and as always:"
   ]
  },
  {
   "cell_type": "markdown",
   "metadata": {},
   "source": [
    "### Next Steps:\n",
    "\n",
    "1) Prettify the text output to make the game a little more appealing\n",
    "\n",
    "2) Add in control structure for inputs"
   ]
  },
  {
   "cell_type": "code",
   "execution_count": 6,
   "metadata": {},
   "outputs": [],
   "source": []
  },
  {
   "cell_type": "code",
   "execution_count": null,
   "metadata": {},
   "outputs": [],
   "source": []
  },
  {
   "cell_type": "code",
   "execution_count": null,
   "metadata": {},
   "outputs": [],
   "source": []
  },
  {
   "cell_type": "code",
   "execution_count": 18,
   "metadata": {},
   "outputs": [],
   "source": [
    "## Imports\n",
    "import random\n",
    "\n",
    "## CLASSES\n",
    "\n",
    "class Player:\n",
    "    \n",
    "    def __init__(self, hand,total,bet=0,winnings=0):\n",
    "        self.hand = hand\n",
    "        self.total = total\n",
    "        self.bet = bet\n",
    "        self.winnings = winnings\n",
    "        \n",
    "    def update_hand(self, new_card):\n",
    "        self.hand.append(new_card)\n",
    "        self.total = card_count(self.hand)\n",
    "    \n",
    "    def update_bet(self,bet):\n",
    "        self.bet += bet\n",
    "    \n",
    "    def update_winnings(self,bet):\n",
    "        self.winnings += bet\n",
    "                \n",
    "    def clear_hand(self):\n",
    "        self.hand = list()\n",
    "    \n",
    "    def get_bet(self):\n",
    "        return self.bet\n",
    "    \n",
    "    def get_winnings(self):\n",
    "        return self.winnings\n",
    "    \n",
    "    def get_hand(self):\n",
    "        return self.hand\n",
    "    \n",
    "    def get_total(self):\n",
    "        return self.total\n",
    "    \n",
    "class Dealer(Player):\n",
    "    \n",
    "    # Inherits settings from class Player\n",
    "    def __int__(self):\n",
    "        Player.__int__(self) \n",
    "        \n",
    "    \n",
    "class Deck:\n",
    "    \n",
    "    def __init__(self,deck=0,card=0):\n",
    "        self.deck = deck\n",
    "        self.card = card\n",
    "        \n",
    "    def updateDeck(self):\n",
    "        self.card = self.deck[random.randint(0,len(self.deck)-1)]\n",
    "        self.deck.pop(self.deck.index(self.card))\n",
    "        \n",
    "    def newDeck(self):\n",
    "        self.deck = [2,3,4,5,6,7,8,9,10,'Jack','Queen','King','Ace'] * 4\n",
    "    \n",
    "    def getCard(self):\n",
    "        return self.card\n",
    "\n",
    "### FUNCTIONS\n",
    "        \n",
    "def card_count(hand):\n",
    "    total = 0\n",
    "    aces = []\n",
    "    \n",
    "    for card in hand:\n",
    "        \n",
    "        # Royal card logic\n",
    "        if card in ('Jack','Queen','King'): \n",
    "            total += 10\n",
    "        \n",
    "        # Store the aces to determine how much they should be\n",
    "        elif card == 'Ace': \n",
    "            aces.append(card)\n",
    "        \n",
    "        # Integer card logic\n",
    "        else:\n",
    "            total += card \n",
    "    \n",
    "    # Break if there are no aces to consider\n",
    "    if len(aces) == 0:\n",
    "        return total\n",
    "    \n",
    "    # Determine if the player's aces should be valued at 1 or 11\n",
    "    else:\n",
    "        for ace in range(len(aces)):\n",
    "            if total + 11 > 21:\n",
    "                total += 1\n",
    "            else:\n",
    "                total += 11\n",
    "                \n",
    "    return total\n",
    "\n",
    "def bust(hand):\n",
    "\n",
    "    return hand > 21\n",
    "\n",
    "def next_round():\n",
    "    feeling_lucky = input('Play another round? Y/N')\n",
    "    return feeling_lucky[0].lower() == 'y'\n",
    "    \n",
    "    \n",
    "def top_level():\n",
    "\n",
    "    # Initialize players and deck\n",
    "    p1 = Player([],0)\n",
    "    dlr = Dealer([],0)\n",
    "    card_deck = Deck()\n",
    "    card_deck.newDeck()\n",
    "    \n",
    "    # Play games\n",
    "    play_n_games(p1,dlr,card_deck)\n",
    "    \n",
    "def play_n_games(p1,dlr,card_deck):\n",
    "    \n",
    "    still_playing = True\n",
    "    while still_playing:\n",
    "    \n",
    "        # Play game\n",
    "        one_game(p1,dlr,card_deck)\n",
    "        \n",
    "        # After game, reintialize cards and hands\n",
    "        p1.clear_hand()\n",
    "        dlr.clear_hand()\n",
    "        card_deck.newDeck()\n",
    "        \n",
    "        # Check if player would like to continue\n",
    "        still_playing = next_round()\n",
    "        \n",
    "    return still_playing"
   ]
  },
  {
   "cell_type": "code",
   "execution_count": 19,
   "metadata": {},
   "outputs": [
    {
     "name": "stdout",
     "output_type": "stream",
     "text": [
      "Input bet for this hand: 500\n",
      "Current hand:  ['Queen', 3]\n",
      "Hit? yes/noy\n",
      "['Queen', 3, 7]\n",
      "Hit? yes/no n\n",
      "Current hand:  ['Queen', 3, 7]\n",
      "19 20 You win!\n",
      "Cash flow this round:  500.0\n",
      "Total winnings:  500.0\n",
      "Play another round? Y/Nn\n"
     ]
    }
   ],
   "source": [
    "top_level()"
   ]
  },
  {
   "cell_type": "code",
   "execution_count": null,
   "metadata": {},
   "outputs": [],
   "source": []
  },
  {
   "cell_type": "code",
   "execution_count": 16,
   "metadata": {},
   "outputs": [],
   "source": []
  },
  {
   "cell_type": "code",
   "execution_count": 17,
   "metadata": {},
   "outputs": [
    {
     "name": "stdout",
     "output_type": "stream",
     "text": [
      "Input bet for this hand: 5000\n",
      "Current hand:  [4, 2]\n",
      "Hit? yes/no6\n",
      "Current hand:  [4, 2]\n",
      "19 6 You lose!\n",
      "Cash flow this round:  5000.0\n",
      "Total winnings:  -5000.0\n",
      "Play another round? Y/Ny\n",
      "Input bet for this hand: 5000\n",
      "Current hand:  [5, 9]\n",
      "Hit? yes/noy\n",
      "[5, 9, 'Ace']\n",
      "Hit? yes/no y\n",
      "[5, 9, 'Ace', 'Jack']\n",
      "25 You busted, dealer wins!\n",
      "Cash flow this round:  10000.0\n",
      "Total winnings:  -10000.0\n",
      "Play another round? Y/Nn\n"
     ]
    }
   ],
   "source": [
    "top_level()"
   ]
  },
  {
   "cell_type": "code",
   "execution_count": null,
   "metadata": {},
   "outputs": [],
   "source": []
  },
  {
   "cell_type": "code",
   "execution_count": 47,
   "metadata": {},
   "outputs": [
    {
     "data": {
      "text/plain": [
       "16"
      ]
     },
     "execution_count": 47,
     "metadata": {},
     "output_type": "execute_result"
    }
   ],
   "source": [
    "4*4"
   ]
  },
  {
   "cell_type": "code",
   "execution_count": null,
   "metadata": {},
   "outputs": [],
   "source": []
  }
 ],
 "metadata": {
  "kernelspec": {
   "display_name": "Python 3",
   "language": "python",
   "name": "python3"
  },
  "language_info": {
   "codemirror_mode": {
    "name": "ipython",
    "version": 3
   },
   "file_extension": ".py",
   "mimetype": "text/x-python",
   "name": "python",
   "nbconvert_exporter": "python",
   "pygments_lexer": "ipython3",
   "version": "3.6.5"
  }
 },
 "nbformat": 4,
 "nbformat_minor": 1
}
