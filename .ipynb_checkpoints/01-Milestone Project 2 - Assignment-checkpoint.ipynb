{
 "cells": [
  {
   "cell_type": "markdown",
   "metadata": {},
   "source": [
    "# Milestone Project 2 - Blackjack Game\n",
    "In this milestone project you will be creating a Complete BlackJack Card Game in Python.\n",
    "\n",
    "Here are the requirements:\n",
    "\n",
    "* You need to create a simple text-based [BlackJack](https://en.wikipedia.org/wiki/Blackjack) game\n",
    "* The game needs to have one player versus an automated dealer.\n",
    "* The player can stand or hit.\n",
    "* The player must be able to pick their betting amount.\n",
    "* You need to keep track of the player's total money.\n",
    "* You need to alert the player of wins, losses, or busts, etc...\n",
    "\n",
    "And most importantly:\n",
    "\n",
    "* **You must use OOP and classes in some portion of your game. You can not just use functions in your game. Use classes to help you define the Deck and the Player's hand. There are many right ways to do this, so explore it well!**\n",
    "\n",
    "\n",
    "Feel free to expand this game. Try including multiple players. Try adding in Double-Down and card splits! Remember to you are free to use any resources you want and as always:"
   ]
  },
  {
   "cell_type": "markdown",
   "metadata": {},
   "source": [
    "### Current bugs: loop for main game does not appear to be function correctly. Need to clear the hand, for example"
   ]
  },
  {
   "cell_type": "code",
   "execution_count": 6,
   "metadata": {},
   "outputs": [],
   "source": [
    "def deck():\n",
    "    return [2,3,4,5,6,7,8,9,10,'Jack','Queen','King','Ace'] * 4\n",
    "    "
   ]
  },
  {
   "cell_type": "code",
   "execution_count": 9,
   "metadata": {},
   "outputs": [
    {
     "data": {
      "text/plain": [
       "52"
      ]
     },
     "execution_count": 9,
     "metadata": {},
     "output_type": "execute_result"
    }
   ],
   "source": [
    "def main():\n",
    "    \n",
    "    deck = [2,3,4,5,6,7,8,9,10,'Jack','Queen','King','Ace'] * 4\n",
    "    # Give player 2 random cards\n",
    "        # Create class for player\n",
    "    #     \n",
    "    # Remove those cards from the deck\n",
    "    # Give dealer 2 random cards\n",
    "    # Remove those cards from the deck\n",
    "    # Print out cards the player has \n",
    "    #  \n",
    "    # Player can hit or tay\n",
    "    "
   ]
  },
  {
   "cell_type": "code",
   "execution_count": null,
   "metadata": {},
   "outputs": [],
   "source": []
  },
  {
   "cell_type": "code",
   "execution_count": 41,
   "metadata": {},
   "outputs": [],
   "source": [
    "## Imports\n",
    "import random\n",
    "\n",
    "## CLASSES\n",
    "\n",
    "class Player:\n",
    "    \n",
    "    def __init__(self, hand,total,bet=0,winnings=0):\n",
    "        self.hand = hand\n",
    "        self.total = total\n",
    "        self.bet = bet\n",
    "        self.winnings = winnings\n",
    "        \n",
    "    def update_hand(self, new_card):\n",
    "        self.hand.append(new_card)\n",
    "        self.total = card_count(self.hand)\n",
    "    \n",
    "    def update_bet(self,bet):\n",
    "        self.bet += bet\n",
    "    \n",
    "    def update_winnings(self,bet):\n",
    "        self.winnings += bet\n",
    "                \n",
    "    def get_bet(self):\n",
    "        return self.bet\n",
    "    \n",
    "    def get_winnings(self):\n",
    "        return self.winnings\n",
    "    \n",
    "    def get_hand(self):\n",
    "        return self.hand\n",
    "    \n",
    "    def get_total(self):\n",
    "        return self.total\n",
    "    \n",
    "class Dealer(Player):\n",
    "    \n",
    "    # Inherits settings from class Player\n",
    "    def __int__(self):\n",
    "        Player.__int__(self) \n",
    "        \n",
    "    \n",
    "class Deck:\n",
    "    \n",
    "    def __init__(self,deck,card):\n",
    "        self.deck = deck\n",
    "        self.card = card\n",
    "        \n",
    "    def updateDeck(self):\n",
    "        self.card = self.deck[random.randint(0,len(self.deck)-1)]\n",
    "        self.deck.pop(self.deck.index(self.card))\n",
    "    \n",
    "    def getCard(self):\n",
    "        return self.card\n",
    "\n",
    "### FUNCTIONS\n",
    "        \n",
    "def card_count(hand):\n",
    "    total = 0\n",
    "    aces = []\n",
    "    \n",
    "    for card in hand:\n",
    "        \n",
    "        # Royal card logic\n",
    "        if card in ('Jack','Queen','King'): \n",
    "            total += 10\n",
    "        \n",
    "        # Store the aces to determine how much they should be\n",
    "        elif card == 'Ace': \n",
    "            aces.append(card)\n",
    "        \n",
    "        # Integer card logic\n",
    "        else:\n",
    "            total += card \n",
    "    \n",
    "    # Break if there are no aces to consider\n",
    "    if len(aces) == 0:\n",
    "        return total\n",
    "    \n",
    "    # Determine if the player's aces should be valued at 1 or 11\n",
    "    else:\n",
    "        for ace in range(len(aces)):\n",
    "            if total + 11 > 21:\n",
    "                total += 1\n",
    "            else:\n",
    "                total += 11\n",
    "                \n",
    "    return total\n",
    "\n",
    "def hit_again(hand):\n",
    "\n",
    "    return hand >= 21\n",
    "\n",
    "def next_round():\n",
    "    feeling_lucky = input('Play another round? Y/N')\n",
    "    return feeling_lucky[0].lower() == 'y'\n",
    "    "
   ]
  },
  {
   "cell_type": "code",
   "execution_count": 58,
   "metadata": {},
   "outputs": [],
   "source": [
    "def top_level():\n",
    "\n",
    "    p1 = Player([],0)\n",
    "    dlr = Dealer([],0)\n",
    "    \n",
    "    cards = [2,3,4,5,6,7,8,9,10,'Jack','Queen','King','Ace'] * 4\n",
    "    card_deck = Deck(cards,0)\n",
    "    \n",
    "    play_n_games(p1,dlr,card_deck)\n",
    "    \n",
    "def play_n_games(p1,dlr,card_deck):\n",
    "    \n",
    "    still_playing = True\n",
    "    while still_playing:\n",
    "    \n",
    "        one_game(p1,dlr,card_deck)\n",
    "        still_playing = next_round()\n",
    "        \n",
    "        "
   ]
  },
  {
   "cell_type": "code",
   "execution_count": null,
   "metadata": {},
   "outputs": [
    {
     "name": "stdout",
     "output_type": "stream",
     "text": [
      "Input bet for this hand: 500\n",
      "Current hand:  [7, 7]\n",
      "Hit? yes/noy\n",
      "[7, 7, 'Ace']\n",
      "Hit? yes/no y\n",
      "[7, 7, 'Ace', 'King']\n",
      "25 You busted, dealer wins!\n",
      "Cash flow this round:  500.0\n",
      "Total winnings:  -500.0\n",
      "Play another round? Y/Nyeeeeeeeeeeeeeeeeeah\n",
      "Input bet for this hand: 10000\n",
      "Current hand:  [7, 7, 'Ace', 'King', 2, 8]\n",
      "Hit? yes/non\n",
      "Current hand:  [7, 7, 'Ace', 'King', 2, 8]\n",
      "Dealer busts, you win!\n",
      "Cash flow this round:  10500.0\n",
      "Total winnings:  9500.0\n"
     ]
    }
   ],
   "source": [
    "top_level()"
   ]
  },
  {
   "cell_type": "code",
   "execution_count": 57,
   "metadata": {},
   "outputs": [],
   "source": [
    "def one_game(p1,dlr,card_deck):\n",
    "    \n",
    "    ## Initialize players and inital cards\n",
    "#    p1 = Player([],0)\n",
    "#    dlr = Dealer([],0)\n",
    "    \n",
    "#    cards = [2,3,4,5,6,7,8,9,10,'Jack','Queen','King','Ace'] * 4\n",
    "#    card_deck = Deck(cards,0)\n",
    "    \n",
    "    card_deck.updateDeck()\n",
    "    dlr.update_hand(card_deck.getCard())\n",
    "    \n",
    "    card_deck.updateDeck()\n",
    "    dlr.update_hand(card_deck.getCard())\n",
    "    \n",
    "    card_deck.updateDeck()\n",
    "    p1.update_hand(card_deck.getCard())\n",
    "    \n",
    "    card_deck.updateDeck()\n",
    "    p1.update_hand(card_deck.getCard())\n",
    "    \n",
    "    \n",
    "    cash_bet = float(input(\"Input bet for this hand: \"))\n",
    "    p1.update_bet(cash_bet)\n",
    "    \n",
    "    print(\"Current hand: \", p1.get_hand())\n",
    "    x = input(\"Hit? yes/no\")\n",
    "    \n",
    "    hit_again = False\n",
    "    win = False\n",
    "    while x.lower() == 'y':\n",
    "        \n",
    "        if x[0].lower() == 'y':\n",
    "            \n",
    "            # New card removed from deck\n",
    "            card_deck.updateDeck()\n",
    "            \n",
    "            # Add new card from deck to the player's hand and check if player busts\n",
    "            p1.update_hand(card_deck.getCard())\n",
    "            hit_again = bust(p1.get_total()) \n",
    "            \n",
    "            # Player may hit as long as they do not bust\n",
    "            if not hit_again:\n",
    "                print(p1.get_hand())\n",
    "                x = input(\"Hit? yes/no \")\n",
    "            else:\n",
    "                print(p1.get_hand())\n",
    "                print(p1.get_total(), 'You busted, dealer wins!')\n",
    "                break\n",
    "    \n",
    "    # Game is automatically over once player busts\n",
    "    \n",
    "    if not hit_again: \n",
    "\n",
    "        while dlr.get_total() < 17 and not bust(dlr.get_total()):\n",
    "            card_deck.updateDeck()\n",
    "            dlr.update_hand(card_deck.getCard())    \n",
    "\n",
    "        # Game is over as soon as dealer busts    \n",
    "        \n",
    "        if bust(dlr.get_total()):\n",
    "            print(\"Current hand: \", p1.get_hand())\n",
    "            print('Dealer busts, you win!')\n",
    "            win = True\n",
    "            #p1.update_winnings(cash_bet)\n",
    "\n",
    "        elif p1.get_total() <= 21 and (21 - p1.get_total()) > (21 - dlr.get_total()):\n",
    "            print(\"Current hand: \", p1.get_hand())\n",
    "            print(dlr.get_total(), p1.get_total(), \"You lose!\")\n",
    "        \n",
    "        else:\n",
    "            print(\"Current hand: \", p1.get_hand())\n",
    "            print(dlr.get_total(), p1.get_total(), \"You win!\")\n",
    "            win = True\n",
    "\n",
    "    # Update player's winnings\n",
    "    \n",
    "    if win: \n",
    "        p1.update_winnings(cash_bet)\n",
    "    \n",
    "    else:\n",
    "        \n",
    "        p1.update_winnings(cash_bet*-1)\n",
    "\n",
    "    print('Cash flow this round: ', p1.get_bet())\n",
    "    print('Total winnings: ', p1.get_winnings())\n",
    "        "
   ]
  },
  {
   "cell_type": "code",
   "execution_count": 50,
   "metadata": {},
   "outputs": [
    {
     "name": "stdout",
     "output_type": "stream",
     "text": [
      "Input bet for this hand: 500\n",
      "Current hand:  ['Queen', 7]\n",
      "Hit? yes/noy\n",
      "['Queen', 7, 10]\n",
      "27 You busted, dealer wins!\n",
      "Cash flow this round:  500.0\n",
      "Total winnings:  -500.0\n"
     ]
    }
   ],
   "source": [
    "one_game()"
   ]
  },
  {
   "cell_type": "code",
   "execution_count": null,
   "metadata": {},
   "outputs": [],
   "source": []
  },
  {
   "cell_type": "code",
   "execution_count": 47,
   "metadata": {},
   "outputs": [
    {
     "data": {
      "text/plain": [
       "16"
      ]
     },
     "execution_count": 47,
     "metadata": {},
     "output_type": "execute_result"
    }
   ],
   "source": [
    "4*4"
   ]
  },
  {
   "cell_type": "code",
   "execution_count": null,
   "metadata": {},
   "outputs": [],
   "source": []
  }
 ],
 "metadata": {
  "kernelspec": {
   "display_name": "Python 3",
   "language": "python",
   "name": "python3"
  },
  "language_info": {
   "codemirror_mode": {
    "name": "ipython",
    "version": 3
   },
   "file_extension": ".py",
   "mimetype": "text/x-python",
   "name": "python",
   "nbconvert_exporter": "python",
   "pygments_lexer": "ipython3",
   "version": "3.6.5"
  }
 },
 "nbformat": 4,
 "nbformat_minor": 1
}
